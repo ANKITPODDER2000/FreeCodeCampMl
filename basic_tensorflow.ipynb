{
  "nbformat": 4,
  "nbformat_minor": 0,
  "metadata": {
    "colab": {
      "name": "basic_tensorflow.ipynb",
      "provenance": []
    },
    "kernelspec": {
      "name": "python3",
      "display_name": "Python 3"
    }
  },
  "cells": [
    {
      "cell_type": "code",
      "metadata": {
        "id": "FsibFQOXeDQC",
        "colab_type": "code",
        "colab": {}
      },
      "source": [
        "%tensorflow_version 2.x\n",
        "import tensorflow as tf\n",
        "print(tf.version)"
      ],
      "execution_count": null,
      "outputs": []
    },
    {
      "cell_type": "code",
      "metadata": {
        "id": "-fQT31zXehio",
        "colab_type": "code",
        "colab": {}
      },
      "source": [
        "st   = tf.Variable(\"I am a string\" , tf.string)\n",
        "inte = tf.Variable(10 , tf.int64)\n",
        "flo  = tf.Variable(15.9 , tf.float64)"
      ],
      "execution_count": null,
      "outputs": []
    },
    {
      "cell_type": "code",
      "metadata": {
        "id": "CXFWXSvXe9S0",
        "colab_type": "code",
        "colab": {}
      },
      "source": [
        "rank1 = tf.Variable([\"I am 1st String!\" , \"I am 2nd String!\" , \"I am 3rd String!\"] , tf.string)\n",
        "rank2 = tf.Variable([[\"I am 1st String!\" , \"I am 2nd String!\",\"I am 3rd String!\"],\n",
        "                     [\"I am 1st String!\" , \"I am 2nd String!\",\"I am 3rd String!\"]] , tf.string)"
      ],
      "execution_count": null,
      "outputs": []
    },
    {
      "cell_type": "code",
      "metadata": {
        "id": "-BcxoEqwfWx3",
        "colab_type": "code",
        "colab": {}
      },
      "source": [
        "print(\"Rank of rank1 string st : \",tf.rank(st))\n",
        "print(\"Rank of rank1 string matrix : \",tf.rank(rank1))\n",
        "print(\"Rank of rank2 string matrix : \",tf.rank(rank2))"
      ],
      "execution_count": null,
      "outputs": []
    },
    {
      "cell_type": "code",
      "metadata": {
        "id": "ThfI0x-efelh",
        "colab_type": "code",
        "colab": {}
      },
      "source": [
        "print(\"shape of rank1 string matrix : \",rank1.shape)\n",
        "print(\"shape of rank2 string matrix : \",rank2.shape)"
      ],
      "execution_count": null,
      "outputs": []
    },
    {
      "cell_type": "code",
      "metadata": {
        "id": "4M7_7gcrgChu",
        "colab_type": "code",
        "colab": {}
      },
      "source": [
        "tensor1 = tf.ones([1,2,3])\n",
        "tensor2 = tf.reshape(tensor1 , [2,3,1])\n",
        "tensor3 = tf.reshape(tensor2 , [3,-1])"
      ],
      "execution_count": null,
      "outputs": []
    },
    {
      "cell_type": "code",
      "metadata": {
        "id": "ZK-eRrb9hAzV",
        "colab_type": "code",
        "colab": {}
      },
      "source": [
        "print(tensor1)\n",
        "print()\n",
        "print(tensor2)\n",
        "print()\n",
        "print(tensor3)\n",
        "print()"
      ],
      "execution_count": null,
      "outputs": []
    },
    {
      "cell_type": "code",
      "metadata": {
        "id": "ABFda-p8hGGs",
        "colab_type": "code",
        "colab": {}
      },
      "source": [
        "print(\"shape of tensor1 : \",tensor1.shape)\n",
        "print(\"shape of tensor2 : \",tensor2.shape)\n",
        "print(\"shape of tensor3 : \",tensor3.shape)"
      ],
      "execution_count": null,
      "outputs": []
    },
    {
      "cell_type": "code",
      "metadata": {
        "id": "1d2MIqP_hnby",
        "colab_type": "code",
        "colab": {}
      },
      "source": [
        "print(\"String is : \",st.numpy())\n",
        "print(\"inte is : \", inte.numpy())"
      ],
      "execution_count": null,
      "outputs": []
    },
    {
      "cell_type": "code",
      "metadata": {
        "id": "rpMsjpuwhr_R",
        "colab_type": "code",
        "colab": {}
      },
      "source": [
        "zt = tf.zeros([2,5])\n",
        "print(zt)"
      ],
      "execution_count": null,
      "outputs": []
    },
    {
      "cell_type": "code",
      "metadata": {
        "id": "IMRkGMoyiiEg",
        "colab_type": "code",
        "colab": {}
      },
      "source": [
        "print(\"Shape of zero tensor is : \",zt.shape)"
      ],
      "execution_count": null,
      "outputs": []
    }
  ]
}