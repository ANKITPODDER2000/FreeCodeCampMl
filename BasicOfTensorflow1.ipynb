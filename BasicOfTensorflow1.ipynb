{
 "cells": [
  {
   "cell_type": "code",
   "execution_count": 1,
   "metadata": {},
   "outputs": [
    {
     "name": "stdout",
     "output_type": "stream",
     "text": [
      "Version of tensorflow is :  2.1.0\n"
     ]
    }
   ],
   "source": [
    "import tensorflow as tf\n",
    "print(\"Version of tensorflow is : \",tf.__version__)"
   ]
  },
  {
   "cell_type": "code",
   "execution_count": 50,
   "metadata": {},
   "outputs": [],
   "source": [
    "#variable\n",
    "#==================\n",
    "string = tf.Variable(\"It is my string\",tf.string)\n",
    "intVar = tf.Variable(5,tf.int64)\n",
    "floating = tf.Variable(35.5,tf.float64)"
   ]
  },
  {
   "cell_type": "code",
   "execution_count": 5,
   "metadata": {},
   "outputs": [
    {
     "name": "stdout",
     "output_type": "stream",
     "text": [
      "String Variable is :  <tf.Variable 'Variable:0' shape=() dtype=string, numpy=b'It is my string'>\n"
     ]
    }
   ],
   "source": [
    "print(\"String Variable is : \",string)"
   ]
  },
  {
   "cell_type": "code",
   "execution_count": 6,
   "metadata": {},
   "outputs": [
    {
     "name": "stdout",
     "output_type": "stream",
     "text": [
      "Value of string Variable is :  b'It is my string'\n"
     ]
    }
   ],
   "source": [
    "print(\"Value of string Variable is : \",string.numpy())"
   ]
  },
  {
   "cell_type": "code",
   "execution_count": 16,
   "metadata": {},
   "outputs": [
    {
     "name": "stdout",
     "output_type": "stream",
     "text": [
      "Rank details :=  tf.Tensor(0, shape=(), dtype=int32)\n"
     ]
    }
   ],
   "source": [
    "print(\"Rank details := \",tf.rank(string))"
   ]
  },
  {
   "cell_type": "code",
   "execution_count": 17,
   "metadata": {},
   "outputs": [
    {
     "name": "stdout",
     "output_type": "stream",
     "text": [
      "Rank of string :=  0\n"
     ]
    }
   ],
   "source": [
    "print(\"Rank of string := \",tf.rank(string).numpy())"
   ]
  },
  {
   "cell_type": "code",
   "execution_count": 10,
   "metadata": {},
   "outputs": [
    {
     "name": "stdout",
     "output_type": "stream",
     "text": [
      "Value of int variable is :=  5\n",
      "Value of float variable is :=  35.5\n"
     ]
    }
   ],
   "source": [
    "print(\"Value of int variable is := \",intVar.numpy())\n",
    "print(\"Value of float variable is := \",floating.numpy())"
   ]
  },
  {
   "cell_type": "code",
   "execution_count": 14,
   "metadata": {},
   "outputs": [
    {
     "name": "stdout",
     "output_type": "stream",
     "text": [
      "Name of float variable :=  Variable:0\n"
     ]
    }
   ],
   "source": [
    "print(\"Name of float variable := \",floating.name)"
   ]
  },
  {
   "cell_type": "code",
   "execution_count": 18,
   "metadata": {},
   "outputs": [],
   "source": [
    "#Different Tensor"
   ]
  },
  {
   "cell_type": "code",
   "execution_count": 26,
   "metadata": {},
   "outputs": [
    {
     "name": "stdout",
     "output_type": "stream",
     "text": [
      "Vector_1 :=  [0. 0. 0. 0. 0.]\n",
      "Rank :=  1\n",
      "=============================\n",
      "Vector_1 :=  [[0.]\n",
      " [0.]\n",
      " [0.]\n",
      " [0.]\n",
      " [0.]]\n",
      "Rank :=  2\n",
      "=============================\n",
      "Vector_1 :=  [[0. 0. 0. 0. 0.]]\n",
      "Rank :=  2\n"
     ]
    }
   ],
   "source": [
    "vector_1 = tf.zeros((5))\n",
    "print(\"Vector_1 := \",vector_1.numpy())\n",
    "print(\"Rank := \",tf.rank(vector_1).numpy())\n",
    "print(\"=============================\")\n",
    "vector_1 = tf.reshape(vector_1,(5,-1))\n",
    "print(\"Vector_1 := \",vector_1.numpy())\n",
    "print(\"Rank := \",tf.rank(vector_1).numpy())\n",
    "print(\"=============================\")\n",
    "vector_1 = tf.reshape(vector_1,(-1,5))\n",
    "print(\"Vector_1 := \",vector_1.numpy())\n",
    "print(\"Rank := \",tf.rank(vector_1).numpy())"
   ]
  },
  {
   "cell_type": "code",
   "execution_count": 27,
   "metadata": {},
   "outputs": [
    {
     "name": "stdout",
     "output_type": "stream",
     "text": [
      "Vector_2 :=  [[1. 1. 1.]\n",
      " [1. 1. 1.]]\n",
      "Rank :=  2\n",
      "=============================\n",
      "Vector_2 :=  [[0. 0. 0. 0. 0.]]\n",
      "Rank :=  2\n",
      "=============================\n",
      "Vector_2 :=  [[[1. 1.]]\n",
      "\n",
      " [[1. 1.]]\n",
      "\n",
      " [[1. 1.]]]\n",
      "Rank :=  3\n"
     ]
    }
   ],
   "source": [
    "vector_2 = tf.ones((2,3))\n",
    "print(\"Vector_2 := \",vector_2.numpy())\n",
    "print(\"Rank := \",tf.rank(vector_2).numpy())\n",
    "print(\"=============================\")\n",
    "vector_2 = tf.reshape(vector_2,(1,3,-1))\n",
    "print(\"Vector_2 := \",vector_1.numpy())\n",
    "print(\"Rank := \",tf.rank(vector_1).numpy())\n",
    "print(\"=============================\")\n",
    "vector_2 = tf.reshape(vector_2,(3,1,-1))\n",
    "print(\"Vector_2 := \",vector_2.numpy())\n",
    "print(\"Rank := \",tf.rank(vector_2).numpy())"
   ]
  },
  {
   "cell_type": "code",
   "execution_count": 30,
   "metadata": {},
   "outputs": [
    {
     "name": "stdout",
     "output_type": "stream",
     "text": [
      "Shape of vector_2 :=  (3, 1, 2)\n"
     ]
    }
   ],
   "source": [
    "print(\"Shape of vector_2 := \",vector_2.shape)"
   ]
  },
  {
   "cell_type": "code",
   "execution_count": 35,
   "metadata": {},
   "outputs": [],
   "source": [
    "vector_3 = tf.Variable(tf.ones((3,3),tf.float64))"
   ]
  },
  {
   "cell_type": "code",
   "execution_count": 46,
   "metadata": {},
   "outputs": [
    {
     "data": {
      "text/plain": [
       "1.0"
      ]
     },
     "execution_count": 46,
     "metadata": {},
     "output_type": "execute_result"
    }
   ],
   "source": [
    "vector_3[1,1].numpy()"
   ]
  },
  {
   "cell_type": "code",
   "execution_count": 55,
   "metadata": {},
   "outputs": [
    {
     "name": "stdout",
     "output_type": "stream",
     "text": [
      "b'It is my string'\n"
     ]
    }
   ],
   "source": [
    "print(string.numpy())"
   ]
  }
 ],
 "metadata": {
  "kernelspec": {
   "display_name": "Python 3",
   "language": "python",
   "name": "python3"
  },
  "language_info": {
   "codemirror_mode": {
    "name": "ipython",
    "version": 3
   },
   "file_extension": ".py",
   "mimetype": "text/x-python",
   "name": "python",
   "nbconvert_exporter": "python",
   "pygments_lexer": "ipython3",
   "version": "3.7.3"
  }
 },
 "nbformat": 4,
 "nbformat_minor": 2
}
